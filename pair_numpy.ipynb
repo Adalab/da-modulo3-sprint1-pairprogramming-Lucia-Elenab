{
 "cells": [
  {
   "cell_type": "code",
   "execution_count": 1,
   "metadata": {},
   "outputs": [],
   "source": [
    "import numpy as np"
   ]
  },
  {
   "cell_type": "code",
   "execution_count": null,
   "metadata": {},
   "outputs": [],
   "source": [
    "#Creación y Indexación:\n",
    "#Crea un array 1D con 50 valores aleatorio del 10 al 99. Accede a los elementos en las posiciones múltiplos de 5.\n",
    "#Crea un array 1D con 30 valores del 1 al 20 (ambos incluidos). Utiliza indexación para obtener los elementos en las posiciones impares.\n",
    "#Crea un array 2D de forma (4, 6) con números aleatorios decimales (no deben estar comprendidos solo entre 0 y 1). Accede a la última fila de la matriz. Los decimales deben estar redondeados a 2 decimales.\n",
    "#Crea un array NumPy 2D de forma (6, 4) con valores decimales entre 0 y 1. Accede a la segunda columna de la matriz. Los números deben estar redondeados a 2 decimales.\n",
    "#Crea un array 1D con 30 valores enteros aleatorios entre -50 y 50. Extrae los valores negativos.\n",
    "#Crea un array 1D con 10 valores entre 0 y 1. Redondea los decimales a 2. Obtén los elementos cuyo valor es mayor que 0.5. ¿En que posición/es están esos elementos?\n",
    "#Crea un array 1D con 40 valores del 1 al 100 (ambos incluidos). Obtén los elementos que son divisibles por 3 y por 4.\n",
    "#BONUS: Crea un array 3D de forma (2, 3, 5) y 50 elementos con números enteros entre 0 y 100 (ambos incluidos). Reemplaza los elementos en posiciones múltiplos de 3 por 0."
   ]
  },
  {
   "cell_type": "code",
   "execution_count": 9,
   "metadata": {},
   "outputs": [
    {
     "name": "stdout",
     "output_type": "stream",
     "text": [
      "[57 41 23 96 32 29 78 90 71 84 99 27 23 55 98 44 15 27 59 76 66 24 84 73\n",
      " 81 29 91 47 32 94 80 13 80 70 72 46 66 44 32 32 80 82 50 24 61 19 84 19\n",
      " 73 70]\n"
     ]
    },
    {
     "data": {
      "text/plain": [
       "array([57, 29, 99, 44, 66, 29, 80, 46, 80, 19])"
      ]
     },
     "execution_count": 9,
     "metadata": {},
     "output_type": "execute_result"
    }
   ],
   "source": [
    "#1.Crea un array 1D con 50 valores aleatorio del 10 al 99. Accede a los elementos en las posiciones múltiplos de 5.\n",
    "array_1=np.random.randint(10,100,50)\n",
    "print(array_1)\n",
    "array_1[::5]"
   ]
  },
  {
   "cell_type": "code",
   "execution_count": 18,
   "metadata": {},
   "outputs": [
    {
     "name": "stdout",
     "output_type": "stream",
     "text": [
      "[ 5  9 14  9 19  2  9  8  3 16  7  6 10 14  3 16  2  9 10  6 19 13 12 19\n",
      "  6 20  5  2  2 14]\n",
      "--------\n"
     ]
    },
    {
     "data": {
      "text/plain": [
       "array([ 9,  9,  2,  8, 16,  6, 14, 16,  9,  6, 13, 19, 20,  2, 14])"
      ]
     },
     "execution_count": 18,
     "metadata": {},
     "output_type": "execute_result"
    }
   ],
   "source": [
    "#2.Crea un array 1D con 30 valores del 1 al 20 (ambos incluidos). Utiliza indexación para obtener los elementos en las posiciones impares.\n",
    "array_2 =np.random.randint(0,21,30)\n",
    "print(array_2)\n",
    "print(\"--------\")\n",
    "array_2[1::2]"
   ]
  },
  {
   "cell_type": "code",
   "execution_count": 25,
   "metadata": {},
   "outputs": [
    {
     "name": "stdout",
     "output_type": "stream",
     "text": [
      "[[0.38218331 0.57236239 0.65648035 0.77006327 0.01969139 0.83433253]\n",
      " [0.44595656 0.67304193 0.54809339 0.95106744 0.40189208 0.34372742]\n",
      " [0.79252794 0.07781476 0.13855926 0.10726839 0.10133223 0.1465743 ]\n",
      " [0.96585333 0.09929279 0.20714128 0.5956665  0.49505516 0.30205433]]\n",
      "--------\n",
      "[[0.38 0.57 0.66 0.77 0.02 0.83]\n",
      " [0.45 0.67 0.55 0.95 0.4  0.34]\n",
      " [0.79 0.08 0.14 0.11 0.1  0.15]\n",
      " [0.97 0.1  0.21 0.6  0.5  0.3 ]]\n",
      "--------\n"
     ]
    },
    {
     "data": {
      "text/plain": [
       "array([0.97, 0.1 , 0.21, 0.6 , 0.5 , 0.3 ])"
      ]
     },
     "execution_count": 25,
     "metadata": {},
     "output_type": "execute_result"
    }
   ],
   "source": [
    "#3.Crea un array 2D de forma (4, 6) con números aleatorios decimales (no deben estar comprendidos solo entre 0 y 1). Accede a la última fila de la matriz. Los decimales deben estar redondeados a 2 decimales.\n",
    "array_bi= np.random.rand(4,6)\n",
    "print(array_bi)\n",
    "print(\"--------\")\n",
    "array_bi1=array_bi.round(2)\n",
    "print(array_bi1)\n",
    "print(\"--------\")\n",
    "array_bi1[-1]"
   ]
  },
  {
   "cell_type": "code",
   "execution_count": 27,
   "metadata": {},
   "outputs": [
    {
     "name": "stdout",
     "output_type": "stream",
     "text": [
      "[[0.90727642 0.96000848 0.41784552 0.6152497 ]\n",
      " [0.12448727 0.75679414 0.52901031 0.43436522]\n",
      " [0.90505908 0.75087159 0.82182514 0.51755172]\n",
      " [0.19698428 0.40158274 0.53452304 0.41774203]\n",
      " [0.92354968 0.10696452 0.85916347 0.14459727]\n",
      " [0.87160941 0.89809843 0.04631162 0.93974754]]\n",
      "--------\n",
      "[[0.38 0.57 0.66 0.77 0.02 0.83]\n",
      " [0.45 0.67 0.55 0.95 0.4  0.34]\n",
      " [0.79 0.08 0.14 0.11 0.1  0.15]\n",
      " [0.97 0.1  0.21 0.6  0.5  0.3 ]]\n",
      "--------\n"
     ]
    },
    {
     "data": {
      "text/plain": [
       "array([0.45, 0.67, 0.55, 0.95, 0.4 , 0.34])"
      ]
     },
     "execution_count": 27,
     "metadata": {},
     "output_type": "execute_result"
    }
   ],
   "source": [
    "#4.Crea un array NumPy 2D de forma (6, 4) con valores decimales entre 0 y 1. Accede a la segunda columna de la matriz. Los números deben estar redondeados a 2 decimales.\n",
    "array_bi2= np.random.rand(6,4)\n",
    "print(array_bi2)\n",
    "print(\"--------\")\n",
    "array_bi2_1=array_bi.round(2)\n",
    "print(array_bi2_1)\n",
    "print(\"--------\")\n",
    "array_bi1[1]"
   ]
  },
  {
   "cell_type": "code",
   "execution_count": 39,
   "metadata": {},
   "outputs": [
    {
     "name": "stdout",
     "output_type": "stream",
     "text": [
      "[-19  25 -38   5 -45  25 -43   8  43 -41 -35 -30  46 -26  22  14  35   0\n",
      "  28 -20 -21  -9  -3  -9 -40  39  -5  39  49  33]\n",
      "--------\n",
      "[ True False  True False  True False  True False False  True  True  True\n",
      " False  True False False False False False  True  True  True  True  True\n",
      "  True False  True False False False]\n",
      "--------\n"
     ]
    },
    {
     "data": {
      "text/plain": [
       "array(['negativo', 'positivo', 'negativo', 'positivo', 'negativo',\n",
       "       'positivo', 'negativo', 'positivo', 'positivo', 'negativo',\n",
       "       'negativo', 'negativo', 'positivo', 'negativo', 'positivo',\n",
       "       'positivo', 'positivo', 'positivo', 'positivo', 'negativo',\n",
       "       'negativo', 'negativo', 'negativo', 'negativo', 'negativo',\n",
       "       'positivo', 'negativo', 'positivo', 'positivo', 'positivo'],\n",
       "      dtype='<U8')"
      ]
     },
     "execution_count": 39,
     "metadata": {},
     "output_type": "execute_result"
    }
   ],
   "source": [
    "#5.Crea un array 1D con 30 valores enteros aleatorios entre -50 y 50. Extrae los valores negativos.\n",
    "array_uni = np.random.randint(-50,50,30)\n",
    "print(array_uni)\n",
    "print(\"--------\")\n",
    "condicion = array_uni < 0\n",
    "print(condicion)\n",
    "print(\"--------\")\n",
    "np.where(condicion, \"negativo\",\"positivo\")\n"
   ]
  },
  {
   "cell_type": "code",
   "execution_count": 45,
   "metadata": {},
   "outputs": [
    {
     "name": "stdout",
     "output_type": "stream",
     "text": [
      "[0.21326641 0.70260847 0.48336485 0.55331549 0.33739042 0.91812552\n",
      " 0.12802896 0.79319689 0.23939245 0.40791034]\n",
      "--------\n",
      "[0.21 0.7  0.48 0.55 0.34 0.92 0.13 0.79 0.24 0.41]\n",
      "[False  True False  True False  True False  True False False]\n",
      "--------\n",
      "La posición de los valores >0.5 es: (array([1, 3, 5, 7], dtype=int64),)\n"
     ]
    }
   ],
   "source": [
    "#6.Crea un array 1D con 10 valores entre 0 y 1. Redondea los decimales a 2. Obtén los elementos cuyo valor es mayor que 0.5. ¿En que posición/es están esos elementos?\n",
    "array_uni1 = np.random.sample(10)\n",
    "print(array_uni1)\n",
    "print(\"--------\")\n",
    "array_1_round= array_uni1.round(2)\n",
    "print(array_1_round)\n",
    "condicion2 = array_1_round > 0.5\n",
    "print(condicion2)\n",
    "print(\"--------\")\n",
    "print(\"La posición de los valores >0.5 es:\", np.where(condicion2))\n"
   ]
  },
  {
   "cell_type": "code",
   "execution_count": 56,
   "metadata": {},
   "outputs": [
    {
     "name": "stdout",
     "output_type": "stream",
     "text": [
      "[ 48   7  72  56  17  70 100  77  77  78  54  47  96   0  36  91   1  92\n",
      "   5 100  53  81  14  68  78  88  77   8  61  10  38  46  41  33  22  75\n",
      "  28  91  20  60]\n",
      "-------- Divisibles entre 3--------\n",
      "-------- \n",
      "Los elementos divisibles por 3 son [48 72 78 54 96  0 36 81 78 33 75 60]\n",
      "-------- Divisibles entre 4--------\n",
      "-------- \n",
      "Los elementos divisibles por 3 están en las posiciones: [ 48  72  56 100  96   0  36  92 100  68  88   8  28  20  60]\n"
     ]
    }
   ],
   "source": [
    "#7.Crea un array 1D con 40 valores del 1 al 100 (ambos incluidos). Obtén los elementos que son divisibles por 3 y por 4.\n",
    "array_uni2 = np.random.randint(0,101,40)\n",
    "print(array_uni2)\n",
    "print(\"-------- Divisibles entre 3--------\")\n",
    "divisible3 = array_uni2 % 3\n",
    "print(\"-------- \")\n",
    "condicion_divisible = divisible3 ==0\n",
    "print(\"Los elementos divisibles por 3 son\",array_uni2[condicion_divisible])\n",
    "print(\"-------- Divisibles entre 4--------\")\n",
    "divisible4 = array_uni2 % 4\n",
    "print(\"-------- \")\n",
    "condicion_divisible4 = divisible4 ==0\n",
    "\n",
    "print(\"Los elementos divisibles por 3 están en las posiciones:\", array_uni2[condicion_divisible4])"
   ]
  },
  {
   "cell_type": "code",
   "execution_count": null,
   "metadata": {},
   "outputs": [],
   "source": [
    "#8.BONUS: Crea un array 3D de forma (2, 3, 5) y 50 elementos con números enteros entre 0 y 100 (ambos incluidos). Reemplaza los elementos en posiciones múltiplos de 3 por 0."
   ]
  },
  {
   "cell_type": "code",
   "execution_count": null,
   "metadata": {},
   "outputs": [],
   "source": [
    "#Reshape y Transpose:\n",
    "#Ejercicios con reshape:\n",
    "#Crea un array 3D de forma (2, 3, 4) con valores aleatorios entre 1 y 100 (ambos inclusive). Utiliza reshape para convertirlo en un array 2D. Deberás pensar en la forma que es correcta para hacer este cambio.\n",
    "#Crea un array 3D de forma (3, 4, 5) con valores enteros del 1 al 60 (sin incluir). Utiliza reshape para convertirlo en un array 2D.\n",
    "#Crea un array 3D de forma (4, 3, 2) con valores aleatorios entre 0 y 1. Utiliza reshape para convertirlo en un array 2D.\n",
    "#Ejercicios con transpose:\n",
    "#Utiliza el array 3D del ejercicio 2 de reshape. Utiliza transpose para permutar los ejes y obtener un nuevo array con forma (5, 4, 3).\n",
    "#Utiliza el array 3D del ejercicio 3 de reshape. Utiliza transpose para cambiar el orden de los ejes y obtener un nuevo array con forma (3, 2, 4)\n",
    "#Preguntas teóricas:\n",
    "#¿Qué diferencia existe entre el reshape y el transpose?\n",
    "#¿Y entre el transpose y el swapaxes?"
   ]
  }
 ],
 "metadata": {
  "kernelspec": {
   "display_name": "Python 3",
   "language": "python",
   "name": "python3"
  },
  "language_info": {
   "codemirror_mode": {
    "name": "ipython",
    "version": 3
   },
   "file_extension": ".py",
   "mimetype": "text/x-python",
   "name": "python",
   "nbconvert_exporter": "python",
   "pygments_lexer": "ipython3",
   "version": "3.11.6"
  }
 },
 "nbformat": 4,
 "nbformat_minor": 2
}
