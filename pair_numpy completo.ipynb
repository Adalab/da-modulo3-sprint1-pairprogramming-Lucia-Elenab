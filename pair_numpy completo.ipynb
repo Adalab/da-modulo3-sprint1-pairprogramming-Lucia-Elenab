{
 "cells": [
  {
   "cell_type": "code",
   "execution_count": 2,
   "metadata": {},
   "outputs": [],
   "source": [
    "import numpy as np"
   ]
  },
  {
   "cell_type": "code",
   "execution_count": null,
   "metadata": {},
   "outputs": [],
   "source": [
    "#Creación y Indexación:\n",
    "#Crea un array 1D con 50 valores aleatorio del 10 al 99. Accede a los elementos en las posiciones múltiplos de 5.\n",
    "#Crea un array 1D con 30 valores del 1 al 20 (ambos incluidos). Utiliza indexación para obtener los elementos en las posiciones impares.\n",
    "#Crea un array 2D de forma (4, 6) con números aleatorios decimales (no deben estar comprendidos solo entre 0 y 1). Accede a la última fila de la matriz. Los decimales deben estar redondeados a 2 decimales.\n",
    "#Crea un array NumPy 2D de forma (6, 4) con valores decimales entre 0 y 1. Accede a la segunda columna de la matriz. Los números deben estar redondeados a 2 decimales.\n",
    "#Crea un array 1D con 30 valores enteros aleatorios entre -50 y 50. Extrae los valores negativos.\n",
    "#Crea un array 1D con 10 valores entre 0 y 1. Redondea los decimales a 2. Obtén los elementos cuyo valor es mayor que 0.5. ¿En que posición/es están esos elementos?\n",
    "#Crea un array 1D con 40 valores del 1 al 100 (ambos incluidos). Obtén los elementos que son divisibles por 3 y por 4.\n",
    "#BONUS: Crea un array 3D de forma (2, 3, 5) y 50 elementos con números enteros entre 0 y 100 (ambos incluidos). Reemplaza los elementos en posiciones múltiplos de 3 por 0."
   ]
  },
  {
   "cell_type": "code",
   "execution_count": 9,
   "metadata": {},
   "outputs": [
    {
     "name": "stdout",
     "output_type": "stream",
     "text": [
      "[57 41 23 96 32 29 78 90 71 84 99 27 23 55 98 44 15 27 59 76 66 24 84 73\n",
      " 81 29 91 47 32 94 80 13 80 70 72 46 66 44 32 32 80 82 50 24 61 19 84 19\n",
      " 73 70]\n"
     ]
    },
    {
     "data": {
      "text/plain": [
       "array([57, 29, 99, 44, 66, 29, 80, 46, 80, 19])"
      ]
     },
     "execution_count": 9,
     "metadata": {},
     "output_type": "execute_result"
    }
   ],
   "source": [
    "#1.Crea un array 1D con 50 valores aleatorio del 10 al 99. Accede a los elementos en las posiciones múltiplos de 5.\n",
    "array_1=np.random.randint(10,100,50)\n",
    "print(array_1)\n",
    "array_1[::5]"
   ]
  },
  {
   "cell_type": "code",
   "execution_count": 18,
   "metadata": {},
   "outputs": [
    {
     "name": "stdout",
     "output_type": "stream",
     "text": [
      "[ 5  9 14  9 19  2  9  8  3 16  7  6 10 14  3 16  2  9 10  6 19 13 12 19\n",
      "  6 20  5  2  2 14]\n",
      "--------\n"
     ]
    },
    {
     "data": {
      "text/plain": [
       "array([ 9,  9,  2,  8, 16,  6, 14, 16,  9,  6, 13, 19, 20,  2, 14])"
      ]
     },
     "execution_count": 18,
     "metadata": {},
     "output_type": "execute_result"
    }
   ],
   "source": [
    "#2.Crea un array 1D con 30 valores del 1 al 20 (ambos incluidos). Utiliza indexación para obtener los elementos en las posiciones impares.\n",
    "array_2 =np.random.randint(0,21,30)\n",
    "print(array_2)\n",
    "print(\"--------\")\n",
    "array_2[1::2]"
   ]
  },
  {
   "cell_type": "code",
   "execution_count": 25,
   "metadata": {},
   "outputs": [
    {
     "name": "stdout",
     "output_type": "stream",
     "text": [
      "[[0.38218331 0.57236239 0.65648035 0.77006327 0.01969139 0.83433253]\n",
      " [0.44595656 0.67304193 0.54809339 0.95106744 0.40189208 0.34372742]\n",
      " [0.79252794 0.07781476 0.13855926 0.10726839 0.10133223 0.1465743 ]\n",
      " [0.96585333 0.09929279 0.20714128 0.5956665  0.49505516 0.30205433]]\n",
      "--------\n",
      "[[0.38 0.57 0.66 0.77 0.02 0.83]\n",
      " [0.45 0.67 0.55 0.95 0.4  0.34]\n",
      " [0.79 0.08 0.14 0.11 0.1  0.15]\n",
      " [0.97 0.1  0.21 0.6  0.5  0.3 ]]\n",
      "--------\n"
     ]
    },
    {
     "data": {
      "text/plain": [
       "array([0.97, 0.1 , 0.21, 0.6 , 0.5 , 0.3 ])"
      ]
     },
     "execution_count": 25,
     "metadata": {},
     "output_type": "execute_result"
    }
   ],
   "source": [
    "#3.Crea un array 2D de forma (4, 6) con números aleatorios decimales (no deben estar comprendidos solo entre 0 y 1). Accede a la última fila de la matriz. Los decimales deben estar redondeados a 2 decimales.\n",
    "array_bi= np.random.rand(4,6)\n",
    "print(array_bi)\n",
    "print(\"--------\")\n",
    "array_bi1=array_bi.round(2)\n",
    "print(array_bi1)\n",
    "print(\"--------\")\n",
    "array_bi1[-1]"
   ]
  },
  {
   "cell_type": "code",
   "execution_count": 27,
   "metadata": {},
   "outputs": [
    {
     "name": "stdout",
     "output_type": "stream",
     "text": [
      "[[0.90727642 0.96000848 0.41784552 0.6152497 ]\n",
      " [0.12448727 0.75679414 0.52901031 0.43436522]\n",
      " [0.90505908 0.75087159 0.82182514 0.51755172]\n",
      " [0.19698428 0.40158274 0.53452304 0.41774203]\n",
      " [0.92354968 0.10696452 0.85916347 0.14459727]\n",
      " [0.87160941 0.89809843 0.04631162 0.93974754]]\n",
      "--------\n",
      "[[0.38 0.57 0.66 0.77 0.02 0.83]\n",
      " [0.45 0.67 0.55 0.95 0.4  0.34]\n",
      " [0.79 0.08 0.14 0.11 0.1  0.15]\n",
      " [0.97 0.1  0.21 0.6  0.5  0.3 ]]\n",
      "--------\n"
     ]
    },
    {
     "data": {
      "text/plain": [
       "array([0.45, 0.67, 0.55, 0.95, 0.4 , 0.34])"
      ]
     },
     "execution_count": 27,
     "metadata": {},
     "output_type": "execute_result"
    }
   ],
   "source": [
    "#4.Crea un array NumPy 2D de forma (6, 4) con valores decimales entre 0 y 1. Accede a la segunda columna de la matriz. Los números deben estar redondeados a 2 decimales.\n",
    "array_bi2= np.random.rand(6,4)\n",
    "print(array_bi2)\n",
    "print(\"--------\")\n",
    "array_bi2_1=array_bi.round(2)\n",
    "print(array_bi2_1)\n",
    "print(\"--------\")\n",
    "array_bi1[1]"
   ]
  },
  {
   "cell_type": "code",
   "execution_count": 39,
   "metadata": {},
   "outputs": [
    {
     "name": "stdout",
     "output_type": "stream",
     "text": [
      "[-19  25 -38   5 -45  25 -43   8  43 -41 -35 -30  46 -26  22  14  35   0\n",
      "  28 -20 -21  -9  -3  -9 -40  39  -5  39  49  33]\n",
      "--------\n",
      "[ True False  True False  True False  True False False  True  True  True\n",
      " False  True False False False False False  True  True  True  True  True\n",
      "  True False  True False False False]\n",
      "--------\n"
     ]
    },
    {
     "data": {
      "text/plain": [
       "array(['negativo', 'positivo', 'negativo', 'positivo', 'negativo',\n",
       "       'positivo', 'negativo', 'positivo', 'positivo', 'negativo',\n",
       "       'negativo', 'negativo', 'positivo', 'negativo', 'positivo',\n",
       "       'positivo', 'positivo', 'positivo', 'positivo', 'negativo',\n",
       "       'negativo', 'negativo', 'negativo', 'negativo', 'negativo',\n",
       "       'positivo', 'negativo', 'positivo', 'positivo', 'positivo'],\n",
       "      dtype='<U8')"
      ]
     },
     "execution_count": 39,
     "metadata": {},
     "output_type": "execute_result"
    }
   ],
   "source": [
    "#5.Crea un array 1D con 30 valores enteros aleatorios entre -50 y 50. Extrae los valores negativos.\n",
    "array_uni = np.random.randint(-50,50,30)\n",
    "print(array_uni)\n",
    "print(\"--------\")\n",
    "condicion = array_uni < 0\n",
    "print(condicion)\n",
    "print(\"--------\")\n",
    "np.where(condicion, \"negativo\",\"positivo\")\n"
   ]
  },
  {
   "cell_type": "code",
   "execution_count": 45,
   "metadata": {},
   "outputs": [
    {
     "name": "stdout",
     "output_type": "stream",
     "text": [
      "[0.21326641 0.70260847 0.48336485 0.55331549 0.33739042 0.91812552\n",
      " 0.12802896 0.79319689 0.23939245 0.40791034]\n",
      "--------\n",
      "[0.21 0.7  0.48 0.55 0.34 0.92 0.13 0.79 0.24 0.41]\n",
      "[False  True False  True False  True False  True False False]\n",
      "--------\n",
      "La posición de los valores >0.5 es: (array([1, 3, 5, 7], dtype=int64),)\n"
     ]
    }
   ],
   "source": [
    "#6.Crea un array 1D con 10 valores entre 0 y 1. Redondea los decimales a 2. Obtén los elementos cuyo valor es mayor que 0.5. ¿En que posición/es están esos elementos?\n",
    "array_uni1 = np.random.sample(10)\n",
    "print(array_uni1)\n",
    "print(\"--------\")\n",
    "array_1_round= array_uni1.round(2)\n",
    "print(array_1_round)\n",
    "condicion2 = array_1_round > 0.5\n",
    "print(condicion2)\n",
    "print(\"--------\")\n",
    "print(\"La posición de los valores >0.5 es:\", np.where(condicion2))\n"
   ]
  },
  {
   "cell_type": "code",
   "execution_count": 56,
   "metadata": {},
   "outputs": [
    {
     "name": "stdout",
     "output_type": "stream",
     "text": [
      "[ 48   7  72  56  17  70 100  77  77  78  54  47  96   0  36  91   1  92\n",
      "   5 100  53  81  14  68  78  88  77   8  61  10  38  46  41  33  22  75\n",
      "  28  91  20  60]\n",
      "-------- Divisibles entre 3--------\n",
      "-------- \n",
      "Los elementos divisibles por 3 son [48 72 78 54 96  0 36 81 78 33 75 60]\n",
      "-------- Divisibles entre 4--------\n",
      "-------- \n",
      "Los elementos divisibles por 3 están en las posiciones: [ 48  72  56 100  96   0  36  92 100  68  88   8  28  20  60]\n"
     ]
    }
   ],
   "source": [
    "#7.Crea un array 1D con 40 valores del 1 al 100 (ambos incluidos). Obtén los elementos que son divisibles por 3 y por 4.\n",
    "array_uni2 = np.random.randint(0,101,40)\n",
    "print(array_uni2)\n",
    "print(\"-------- Divisibles entre 3--------\")\n",
    "divisible3 = array_uni2 % 3\n",
    "print(\"-------- \")\n",
    "condicion_divisible = divisible3 ==0\n",
    "print(\"Los elementos divisibles por 3 son\",array_uni2[condicion_divisible])\n",
    "print(\"-------- Divisibles entre 4--------\")\n",
    "divisible4 = array_uni2 % 4\n",
    "print(\"-------- \")\n",
    "condicion_divisible4 = divisible4 ==0\n",
    "\n",
    "print(\"Los elementos divisibles por 4v son:\", array_uni2[condicion_divisible4])"
   ]
  },
  {
   "cell_type": "code",
   "execution_count": null,
   "metadata": {},
   "outputs": [],
   "source": [
    "#8.BONUS: Crea un array 3D de forma (2, 3, 5) y 50 elementos con números enteros entre 0 y 100 (ambos incluidos). Reemplaza los elementos en posiciones múltiplos de 3 por 0.\n",
    "array_8=np.random.randint(0,101,(2,3,5))\n",
    "print(array_8)\n",
    "condicion8 = array_8%3==0\n",
    "numeros_condicion =array_8[condicion8]\n",
    "print(\"---------------\")\n",
    "print(f\"Los números que cumplen condición son{numeros_condicion}\")\n",
    "print(\"-------- Divisibles entre 3 y su reemplazo--------\")\n",
    "reemplazar =np.where(condicion8, 0, array_8)\n",
    "print(reemplazar)"
   ]
  },
  {
   "cell_type": "code",
   "execution_count": null,
   "metadata": {},
   "outputs": [],
   "source": [
    "#Reshape y Transpose:\n",
    "#Ejercicios con reshape"
   ]
  },
  {
   "cell_type": "code",
   "execution_count": 17,
   "metadata": {},
   "outputs": [
    {
     "name": "stdout",
     "output_type": "stream",
     "text": [
      "[[[71 82 55 85]\n",
      "  [19 77 52 25]\n",
      "  [46 65 81 22]]\n",
      "\n",
      " [[89 42 41 73]\n",
      "  [70 29 13 53]\n",
      "  [48 75 12 67]]]\n",
      "------------\n"
     ]
    },
    {
     "data": {
      "text/plain": [
       "array([[71, 82, 55, 85],\n",
       "       [19, 77, 52, 25],\n",
       "       [46, 65, 81, 22],\n",
       "       [89, 42, 41, 73],\n",
       "       [70, 29, 13, 53],\n",
       "       [48, 75, 12, 67]])"
      ]
     },
     "execution_count": 17,
     "metadata": {},
     "output_type": "execute_result"
    }
   ],
   "source": [
    "\n",
    "#1Crea un array 3D de forma (2, 3, 4) con valores aleatorios entre 1 y 100 (ambos inclusive). Utiliza reshape para convertirlo en un array 2D. Deberás pensar en la forma que es correcta para hacer este cambio.\n",
    "array_tri = np.random.randint(0,101,(2, 3, 4))\n",
    "print(array_tri)\n",
    "print(\"------------\")\n",
    "array_tri.reshape(6,4)\n"
   ]
  },
  {
   "cell_type": "code",
   "execution_count": 7,
   "metadata": {},
   "outputs": [
    {
     "name": "stdout",
     "output_type": "stream",
     "text": [
      "[[[15 21 18 52 36]\n",
      "  [16 48  9  8 52]\n",
      "  [48 23 58 35 22]\n",
      "  [32 19  5 26 30]]\n",
      "\n",
      " [[45  3  9 36  2]\n",
      "  [29 41 17  8  1]\n",
      "  [ 8 14 26 24 30]\n",
      "  [ 7 30 38  9 19]]\n",
      "\n",
      " [[10 57 25 37  3]\n",
      "  [34 39  7 15 14]\n",
      "  [29 55 16 45 48]\n",
      "  [23 34 41 26 34]]]\n",
      "------------------\n",
      "el nuevo array es\n",
      "[[15 21 18]\n",
      " [52 36 16]\n",
      " [48  9  8]\n",
      " [52 48 23]\n",
      " [58 35 22]\n",
      " [32 19  5]\n",
      " [26 30 45]\n",
      " [ 3  9 36]\n",
      " [ 2 29 41]\n",
      " [17  8  1]\n",
      " [ 8 14 26]\n",
      " [24 30  7]\n",
      " [30 38  9]\n",
      " [19 10 57]\n",
      " [25 37  3]\n",
      " [34 39  7]\n",
      " [15 14 29]\n",
      " [55 16 45]\n",
      " [48 23 34]\n",
      " [41 26 34]]\n"
     ]
    },
    {
     "data": {
      "text/plain": [
       "(20, 3)"
      ]
     },
     "execution_count": 7,
     "metadata": {},
     "output_type": "execute_result"
    }
   ],
   "source": [
    "#2.Crea un array 3D de forma (3, 4, 5) con valores enteros del 1 al 60 (sin incluir). Utiliza reshape para convertirlo en un array 2D.\n",
    "\n",
    "array_3D_2 =np.random.randint(1,60,(3,4,5))\n",
    "print(array_3D_2)\n",
    "array_reshape = np.reshape(array_3D_2,(20,3))\n",
    "print(\"------------------\")\n",
    "print(f\"el nuevo array es\\n{array_reshape}\")\n",
    "dimensiones = array_reshape.shape\n",
    "dimensiones"
   ]
  },
  {
   "cell_type": "code",
   "execution_count": 39,
   "metadata": {},
   "outputs": [
    {
     "name": "stdout",
     "output_type": "stream",
     "text": [
      "[[[0.44013708 0.13704109]\n",
      "  [0.93318942 0.30549451]\n",
      "  [0.09112171 0.07636289]]\n",
      "\n",
      " [[0.82594302 0.52767583]\n",
      "  [0.43972912 0.04711756]\n",
      "  [0.44153465 0.73624911]]\n",
      "\n",
      " [[0.31550932 0.05752488]\n",
      "  [0.53689474 0.78794401]\n",
      "  [0.0378997  0.07100189]]\n",
      "\n",
      " [[0.0746326  0.56993294]\n",
      "  [0.0827389  0.97831657]\n",
      "  [0.37973481 0.01484732]]]\n",
      "------------\n",
      "[[0.44013708 0.13704109]\n",
      " [0.93318942 0.30549451]\n",
      " [0.09112171 0.07636289]\n",
      " [0.82594302 0.52767583]\n",
      " [0.43972912 0.04711756]\n",
      " [0.44153465 0.73624911]\n",
      " [0.31550932 0.05752488]\n",
      " [0.53689474 0.78794401]\n",
      " [0.0378997  0.07100189]\n",
      " [0.0746326  0.56993294]\n",
      " [0.0827389  0.97831657]\n",
      " [0.37973481 0.01484732]]\n"
     ]
    }
   ],
   "source": [
    "#3Crea un array 3D de forma (4, 3, 2) con valores aleatorios entre 0 y 1. Utiliza reshape para convertirlo en un array 2D.\n",
    "array_tri_ale = np.random.random_sample((4,3,2))\n",
    "print(array_tri_ale)\n",
    "print(\"------------\")\n",
    "array_tri_ale.size\n",
    "reshape_array_tri =array_tri_ale.reshape(12,2)\n",
    "print(reshape_array_tri)\n"
   ]
  },
  {
   "cell_type": "code",
   "execution_count": null,
   "metadata": {},
   "outputs": [],
   "source": [
    "#Ejercicios de transpose"
   ]
  },
  {
   "cell_type": "code",
   "execution_count": 10,
   "metadata": {},
   "outputs": [
    {
     "name": "stdout",
     "output_type": "stream",
     "text": [
      "[[[15 21 18 52 36]\n",
      "  [16 48  9  8 52]\n",
      "  [48 23 58 35 22]\n",
      "  [32 19  5 26 30]]\n",
      "\n",
      " [[45  3  9 36  2]\n",
      "  [29 41 17  8  1]\n",
      "  [ 8 14 26 24 30]\n",
      "  [ 7 30 38  9 19]]\n",
      "\n",
      " [[10 57 25 37  3]\n",
      "  [34 39  7 15 14]\n",
      "  [29 55 16 45 48]\n",
      "  [23 34 41 26 34]]]\n",
      "------------------\n",
      "[[[15 45 10]\n",
      "  [16 29 34]\n",
      "  [48  8 29]\n",
      "  [32  7 23]]\n",
      "\n",
      " [[21  3 57]\n",
      "  [48 41 39]\n",
      "  [23 14 55]\n",
      "  [19 30 34]]\n",
      "\n",
      " [[18  9 25]\n",
      "  [ 9 17  7]\n",
      "  [58 26 16]\n",
      "  [ 5 38 41]]\n",
      "\n",
      " [[52 36 37]\n",
      "  [ 8  8 15]\n",
      "  [35 24 45]\n",
      "  [26  9 26]]\n",
      "\n",
      " [[36  2  3]\n",
      "  [52  1 14]\n",
      "  [22 30 48]\n",
      "  [30 19 34]]]\n"
     ]
    }
   ],
   "source": [
    "#4.Utiliza el array 3D del ejercicio 2 de reshape. Utiliza transpose para permutar los ejes y obtener un nuevo array con forma (5, 4, 3)\n",
    "print(array_3D_2)\n",
    "transpose_array= np.transpose(array_3D_2,(2,1,0))\n",
    "print(\"------------------\")\n",
    "print(transpose_array)"
   ]
  },
  {
   "cell_type": "code",
   "execution_count": 40,
   "metadata": {},
   "outputs": [
    {
     "name": "stdout",
     "output_type": "stream",
     "text": [
      "[[[0.79931802 0.52594038]\n",
      "  [0.18584387 0.98212028]\n",
      "  [0.5893771  0.82444137]]\n",
      "\n",
      " [[0.09782378 0.43520306]\n",
      "  [0.53181512 0.55728156]\n",
      "  [0.21072731 0.62455253]]\n",
      "\n",
      " [[0.55293639 0.55271941]\n",
      "  [0.23976195 0.52909863]\n",
      "  [0.73130572 0.99905469]]\n",
      "\n",
      " [[0.74746375 0.52708998]\n",
      "  [0.50120927 0.39469181]\n",
      "  [0.94118747 0.40136046]]]\n",
      "------------\n",
      "[[[0.79931802 0.09782378 0.55293639 0.74746375]\n",
      "  [0.18584387 0.53181512 0.23976195 0.50120927]\n",
      "  [0.5893771  0.21072731 0.73130572 0.94118747]]\n",
      "\n",
      " [[0.52594038 0.43520306 0.55271941 0.52708998]\n",
      "  [0.98212028 0.55728156 0.52909863 0.39469181]\n",
      "  [0.82444137 0.62455253 0.99905469 0.40136046]]]\n"
     ]
    }
   ],
   "source": [
    "#5Utiliza el array 3D del ejercicio 3 de reshape. Utiliza transpose para cambiar el orden de los ejes y obtener un nuevo array con forma (3, 2, 4)\n",
    "array_tri_ale = np.random.random_sample((4,3,2))\n",
    "print(array_tri_ale)\n",
    "print(\"------------\")\n",
    "print(array_tri_ale.transpose()) # array_tri_ale (2,4,3)"
   ]
  },
  {
   "cell_type": "code",
   "execution_count": null,
   "metadata": {},
   "outputs": [],
   "source": [
    "#Preguntas teóricas"
   ]
  },
  {
   "cell_type": "code",
   "execution_count": null,
   "metadata": {},
   "outputs": [],
   "source": [
    "#6¿Qué diferencia existe entre el reshape y el transpose?\n",
    "#Mientras que reshape sirve para cambiar la forma del array sin cambiar sus datos(ni el orden), transpose se utiliza para intercambiar las dimensiones del array y supone a su vez cambio del orden de los elementos\n",
    "#7.¿Y entre el transpose y el swapaxes?\n",
    "# El transpose cambia la forma de la matriz,cambiando el orden de filas y columnas, manteniendo el numero de dimensiones. Mientras que el swapaxessolo cambia 2 ejes específicos de un array."
   ]
  },
  {
   "cell_type": "code",
   "execution_count": null,
   "metadata": {},
   "outputs": [],
   "source": [
    "#Funciones Aritméticas y Estadísticas:"
   ]
  },
  {
   "cell_type": "code",
   "execution_count": 45,
   "metadata": {},
   "outputs": [
    {
     "name": "stdout",
     "output_type": "stream",
     "text": [
      "[[[0.4 0.2 1.  0.9 0. ]\n",
      "  [0.4 0.4 0.9 0.7 0.3]\n",
      "  [0.7 0.9 0.5 0.1 0.1]]\n",
      "\n",
      " [[0.3 0.8 0.3 0.5 1. ]\n",
      "  [1.  1.  0.1 0.5 0. ]\n",
      "  [0.6 0.9 0.9 1.  0.2]]]\n",
      "------------\n"
     ]
    }
   ],
   "source": [
    "# 1.Crea un array de tres 3D con elementos entre el 0 y 1 de forma (2, 3, 5) cuyos valores solo tengan 1 decimal.\n",
    "\n",
    "array0 = np.random.random_sample((2,3,5))\n",
    "array_ej = array0.round(1)\n",
    "print(array_ej)\n",
    "print(\"------------\")\n",
    "\n"
   ]
  },
  {
   "cell_type": "code",
   "execution_count": 71,
   "metadata": {},
   "outputs": [
    {
     "name": "stdout",
     "output_type": "stream",
     "text": [
      "[[[0.47 0.04 0.6  0.68 0.14]\n",
      "  [0.89 0.22 0.76 0.82 0.02]\n",
      "  [0.81 0.55 0.75 0.41 0.77]]\n",
      "\n",
      " [[0.5  0.89 0.45 0.01 0.21]\n",
      "  [0.57 0.54 0.91 0.72 0.59]\n",
      "  [0.05 0.96 0.8  0.32 0.09]]]\n",
      "------------\n",
      "La media del array es 0.5\n",
      "------------\n",
      "[[[['0.47' '0.04' '0.6' '0.68' '0.14']\n",
      "   ['0.89' '0.22' '0.76' '0.82' '0.02']\n",
      "   ['0.81' '0.55' '0.75' '0.41' '0.77']]\n",
      "\n",
      "  [['A' '0.89' '0.45' '0.01' '0.21']\n",
      "   ['0.57' '0.54' '0.91' '0.72' '0.59']\n",
      "   ['0.05' '0.96' '0.8' '0.32' '0.09']]]]\n",
      "------------\n",
      "[[[[['0.47' '0.04' 'B' 'B' '0.14']\n",
      "    ['B' '0.22' 'B' 'B' '0.02']\n",
      "    ['B' 'B' 'B' '0.41' 'B']]\n",
      "\n",
      "   [['A' 'B' '0.45' '0.01' '0.21']\n",
      "    ['B' 'B' 'B' 'B' 'B']\n",
      "    ['0.05' 'B' 'B' '0.32' '0.09']]]]]\n",
      "------------\n",
      "[[[[[['C' 'C' 'B' 'B' 'C']\n",
      "     ['B' 'C' 'B' 'B' 'C']\n",
      "     ['B' 'B' 'B' 'C' 'B']]\n",
      "\n",
      "    [['A' 'B' 'C' 'C' 'C']\n",
      "     ['B' 'B' 'B' 'B' 'B']\n",
      "     ['C' 'B' 'B' 'C' 'C']]]]]]\n",
      "------------\n",
      "El valor máximo es 0.96\n",
      "[[[[[[['C' 'C' 'B' 'B' 'C']\n",
      "      ['B' 'C' 'B' 'B' 'C']\n",
      "      ['B' 'B' 'B' 'C' 'B']]\n",
      "\n",
      "     [['A' 'B' 'C' 'C' 'C']\n",
      "      ['B' 'B' 'B' 'B' 'B']\n",
      "      ['C' 'D' 'B' 'C' 'C']]]]]]]\n",
      "------------\n",
      "El valor mínimo es 0.01\n",
      "[[[[[[[['C' 'C' 'B' 'B' 'C']\n",
      "       ['B' 'C' 'B' 'B' 'C']\n",
      "       ['B' 'B' 'B' 'C' 'B']]\n",
      "\n",
      "      [['A' 'B' 'C' 'E' 'C']\n",
      "       ['B' 'B' 'B' 'B' 'B']\n",
      "       ['C' 'D' 'B' 'C' 'C']]]]]]]]\n"
     ]
    }
   ],
   "source": [
    "#2.Crea un array vacío con la misma forma y dimensiones que el array creado anteriormente. \n",
    "#Vamos a reemplazar los valores de la matriz vacía que nos acabamos de crear pero basándonos\n",
    "#en los valores del primer array bajo las siguientes condiciones:\n",
    "\n",
    "b_array = np.random.random_sample((2,3,5))\n",
    "array_ej1 = b_array.round(2)\n",
    "print(array_ej1)\n",
    "print(\"------------\")\n",
    "\n",
    "#Si el valor del array es igual que la media, se reemplaza por \"A\".\n",
    "media = round(np.mean(array_ej1),1)\n",
    "print(\"La media del array es\", media)\n",
    "print(\"------------\")\n",
    "condicion_a = media == array_ej1\n",
    "array_A= np.where(condicion_a, \"A\", [array_ej1])\n",
    "print(array_A)\n",
    "#Si el valor del array es mayor que la media, se reemplaza por \"B\".\n",
    "print(\"------------\")\n",
    "condicion_b =  array_ej1 > media\n",
    "array_AB= np.where(condicion_b, \"B\", [array_A])\n",
    "print(array_AB)\n",
    "\n",
    "#Si el valor del array es menor que la media, se reemplaza por \"C\".\n",
    "\n",
    "print(\"------------\")\n",
    "condicion_c =  array_ej1 < media\n",
    "array_ABC= np.where(condicion_c, \"C\", [array_AB])\n",
    "print(array_ABC)\n",
    "#Si el valor es igual que el máximo, se reemplaza por \"D\".\n",
    "print(\"------------\")\n",
    "valor_max = np.max(array_ej1)\n",
    "print(\"El valor máximo es\" , valor_max)\n",
    "condicion_d =  array_ej1 == valor_max \n",
    "array_ABCD= np.where(condicion_d, \"D\", [array_ABC])\n",
    "print(array_ABCD)\n",
    "\n",
    "\n",
    "#Si el valor es igual que el mínimo, se reemplaza por \"E\".\n",
    "\n",
    "print(\"------------\")\n",
    "valor_min = np.min(array_ej1)\n",
    "print(\"El valor mínimo es\" , valor_min)\n",
    "condicion_e =  array_ej1 == valor_min\n",
    "array_ABCDE= np.where(condicion_e, \"E\", [array_ABCD])\n",
    "print(array_ABCDE)\n",
    "\n"
   ]
  }
 ],
 "metadata": {
  "kernelspec": {
   "display_name": "Python 3",
   "language": "python",
   "name": "python3"
  },
  "language_info": {
   "codemirror_mode": {
    "name": "ipython",
    "version": 3
   },
   "file_extension": ".py",
   "mimetype": "text/x-python",
   "name": "python",
   "nbconvert_exporter": "python",
   "pygments_lexer": "ipython3",
   "version": "3.9.7"
  }
 },
 "nbformat": 4,
 "nbformat_minor": 2
}
